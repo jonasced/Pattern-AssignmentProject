{
 "cells": [
  {
   "cell_type": "code",
   "execution_count": 1,
   "metadata": {},
   "outputs": [],
   "source": [
    "from dataprep import dataprep\n",
    "from modeltrain import modeltrain\n",
    "from hmm_test import hmm_test\n",
    "\n",
    "import numpy as np"
   ]
  },
  {
   "cell_type": "markdown",
   "metadata": {},
   "source": [
    "# Cross validation implementation"
   ]
  },
  {
   "cell_type": "code",
   "execution_count": 2,
   "metadata": {
    "scrolled": true
   },
   "outputs": [
    {
     "name": "stdout",
     "output_type": "stream",
     "text": [
      "\n",
      "#####################################################################\n",
      "######################## ITERATION NUMBER 0  ####################### \n",
      "#####################################################################\n",
      "\n",
      "Loading data...\n",
      "Training start...\n",
      "\n",
      " ------------ CHARACTER  A ------------\n",
      "Number of states:  2\n",
      "Avg probability for entire sequence over test samples is -4.023573102711878  (log),  1.7888931618733754 %\n",
      "\n",
      " ------------ CHARACTER  C ------------\n",
      "Number of states:  3\n",
      "Avg probability for entire sequence over test samples is -9.940585680491091  (log),  0.004817907882100788 %\n",
      "\n",
      " ------------ CHARACTER  K ------------\n",
      "Number of states:  5\n",
      "Avg probability for entire sequence over test samples is -11.477037723988598  (log),  0.0010365394790549788 %\n",
      "\n",
      " ------------ CHARACTER  P ------------\n",
      "Number of states:  3\n",
      "Avg probability for entire sequence over test samples is -6.312705405344906  (log),  0.18131213696626794 %\n",
      "\n",
      " ------------ CHARACTER  X ------------\n",
      "Number of states:  6\n",
      "Avg probability for entire sequence over test samples is -16.349556531173437  (log),  7.933737315057672e-06 %\n",
      "\n",
      " ------------ CHARACTER  T ------------\n",
      "Number of states:  2\n",
      "Avg probability for entire sequence over test samples is -3.4024260232197556  (log),  3.32924037637805 %\n",
      "\n",
      " ------------ CHARACTER  + ------------\n",
      "Number of states:  3\n",
      "Avg probability for entire sequence over test samples is -5.538302434623125  (log),  0.39331980351120155 %\n",
      "\n",
      " ------------ CHARACTER  N ------------\n",
      "Number of states:  6\n",
      "Avg probability for entire sequence over test samples is -16.55827223576043  (log),  6.4392270407981515e-06 %\n",
      "\n",
      " ------------ CHARACTER  V ------------\n",
      "Number of states:  3\n",
      "Avg probability for entire sequence over test samples is -5.880700268067889  (log),  0.2792828861239132 %\n",
      "\n",
      " ------------ CHARACTER  4 ------------\n",
      "Number of states:  4\n",
      "Avg probability for entire sequence over test samples is -12.92352468807187  (log),  0.0002439970306813671 %\n",
      "Testing start...\n"
     ]
    },
    {
     "name": "stderr",
     "output_type": "stream",
     "text": [
      "/home/jonas/Local/Pattern-Recognition-Project/PattRecClasses/HMM_TA.py:326: RuntimeWarning: invalid value encountered in double_scalars\n",
      "  scaled[i, j] = res[i, j] / np.amax(res[i])\n"
     ]
    },
    {
     "name": "stdout",
     "output_type": "stream",
     "text": [
      "---------------- RESULTS: ---------------- \n",
      "\n",
      " Character:  A\n",
      "Test accuracy:  1.0 and resulting labels:  ['A', 'A', 'A', 'A', 'A']\n",
      "Training accuracy: (log) -4.023573102711878\n",
      "\n",
      " Character:  C\n",
      "Test accuracy:  0.0 and resulting labels:  ['A', 'A', 'A', 'A', 'A']\n",
      "Training accuracy: (log) -9.940585680491091\n",
      "\n",
      " Character:  K\n",
      "Test accuracy:  0.0 and resulting labels:  ['A', 'A', 'A', 'A', 'C']\n",
      "Training accuracy: (log) -11.477037723988598\n",
      "\n",
      " Character:  P\n",
      "Test accuracy:  0.0 and resulting labels:  ['A', 'A', 'A', 'A', 'A']\n",
      "Training accuracy: (log) -6.312705405344906\n",
      "\n",
      " Character:  X\n",
      "Test accuracy:  0.0 and resulting labels:  ['C', 'C', 'C', 'C', 'C']\n",
      "Training accuracy: (log) -16.349556531173437\n",
      "\n",
      " Character:  T\n",
      "Test accuracy:  0.4 and resulting labels:  ['T', 'T', 'C', 'C', 'C']\n",
      "Training accuracy: (log) -3.4024260232197556\n",
      "\n",
      " Character:  +\n",
      "Test accuracy:  0.0 and resulting labels:  ['C', 'C', 'C', 'C', 'C']\n",
      "Training accuracy: (log) -5.538302434623125\n",
      "\n",
      " Character:  N\n",
      "Test accuracy:  0.0 and resulting labels:  ['A', 'A', 'A', 'A', 'A']\n",
      "Training accuracy: (log) -16.55827223576043\n",
      "\n",
      " Character:  V\n",
      "Test accuracy:  0.0 and resulting labels:  ['A', 'A', 'A', 'A', 'A']\n",
      "Training accuracy: (log) -5.880700268067889\n",
      "\n",
      " Character:  4\n",
      "Test accuracy:  0.0 and resulting labels:  ['A', 'P', 'A', 'A', 'A']\n",
      "Training accuracy: (log) -12.92352468807187\n"
     ]
    }
   ],
   "source": [
    "itr = 1  # number of cross-validation iterations\n",
    "\n",
    "database = \"featTest\"\n",
    "# Cross validation implementation\n",
    "cv_train_acc = []\n",
    "cv_acc = []\n",
    "hmm_list = []\n",
    "train_list = []\n",
    "test_list = []\n",
    "\n",
    "useprint=False\n",
    "\n",
    "for i in range(itr):\n",
    "    print(\"\\n#####################################################################\")\n",
    "    print(\"######################## ITERATION NUMBER\", i, \" ####################### \")\n",
    "    print(\"#####################################################################\\n\")\n",
    "    \n",
    "    print(\"Loading data...\")\n",
    "    train_data, test_data, labels = dataprep(database, shuffle=True, max_labels=0, max_samples=0, nr_test=5, useprint=useprint)\n",
    "\n",
    "    print(\"Training start...\")\n",
    "    hmm_learn, train_acc = modeltrain(train_data, labels, 20, useprint=useprint)\n",
    "\n",
    "    print(\"Testing start...\")\n",
    "    acc, res_labl_list = hmm_test(hmm_learn, test_data, labels, useprint=useprint)\n",
    "    \n",
    "    cv_train_acc += [train_acc]\n",
    "    cv_acc += [acc]\n",
    "    hmm_list += [hmm_learn]\n",
    "    train_list += [train_data]\n",
    "    test_list += [test_data]\n",
    "    \n",
    "    print(\"---------------- RESULTS: ---------------- \")\n",
    "    for k in range(len(labels)):\n",
    "        print(\"\\n Character: \", labels[k])\n",
    "        print(\"Test accuracy: \",acc[k], \"and resulting labels: \",res_labl_list[k])\n",
    "        print(\"Training accuracy: (log)\", train_acc[k])\n"
   ]
  },
  {
   "cell_type": "code",
   "execution_count": 3,
   "metadata": {},
   "outputs": [
    {
     "ename": "KeyboardInterrupt",
     "evalue": "Interrupted by user",
     "output_type": "error",
     "traceback": [
      "\u001b[0;31m---------------------------------------------------------------------------\u001b[0m",
      "\u001b[0;31mKeyboardInterrupt\u001b[0m                         Traceback (most recent call last)",
      "\u001b[0;32m<ipython-input-3-a0f37c45b48e>\u001b[0m in \u001b[0;36m<module>\u001b[0;34m\u001b[0m\n\u001b[1;32m      7\u001b[0m \u001b[0mmaster_list\u001b[0m \u001b[0;34m=\u001b[0m \u001b[0;34m[\u001b[0m\u001b[0mcv_train_acc\u001b[0m\u001b[0;34m]\u001b[0m \u001b[0;34m+\u001b[0m \u001b[0;34m[\u001b[0m\u001b[0mcv_acc\u001b[0m\u001b[0;34m]\u001b[0m \u001b[0;34m+\u001b[0m \u001b[0;34m[\u001b[0m\u001b[0mhmm_list\u001b[0m\u001b[0;34m]\u001b[0m \u001b[0;34m+\u001b[0m \u001b[0;34m[\u001b[0m\u001b[0mtrain_list\u001b[0m\u001b[0;34m]\u001b[0m \u001b[0;34m+\u001b[0m\u001b[0;34m[\u001b[0m\u001b[0mtest_list\u001b[0m\u001b[0;34m]\u001b[0m\u001b[0;34m\u001b[0m\u001b[0;34m\u001b[0m\u001b[0m\n\u001b[1;32m      8\u001b[0m \u001b[0;34m\u001b[0m\u001b[0m\n\u001b[0;32m----> 9\u001b[0;31m \u001b[0mname\u001b[0m \u001b[0;34m=\u001b[0m \u001b[0minput\u001b[0m\u001b[0;34m(\u001b[0m\u001b[0;34m\"What do you want to save the files as?\"\u001b[0m\u001b[0;34m)\u001b[0m\u001b[0;34m\u001b[0m\u001b[0;34m\u001b[0m\u001b[0m\n\u001b[0m\u001b[1;32m     10\u001b[0m \u001b[0;34m\u001b[0m\u001b[0m\n\u001b[1;32m     11\u001b[0m \u001b[0;31m# Saves last iteration as backup in case input name is strange\u001b[0m\u001b[0;34m\u001b[0m\u001b[0;34m\u001b[0m\u001b[0;34m\u001b[0m\u001b[0m\n",
      "\u001b[0;32m~/.local/lib/python3.8/site-packages/ipykernel/kernelbase.py\u001b[0m in \u001b[0;36mraw_input\u001b[0;34m(self, prompt)\u001b[0m\n\u001b[1;32m    858\u001b[0m                 \u001b[0;34m\"raw_input was called, but this frontend does not support input requests.\"\u001b[0m\u001b[0;34m\u001b[0m\u001b[0;34m\u001b[0m\u001b[0m\n\u001b[1;32m    859\u001b[0m             )\n\u001b[0;32m--> 860\u001b[0;31m         return self._input_request(str(prompt),\n\u001b[0m\u001b[1;32m    861\u001b[0m             \u001b[0mself\u001b[0m\u001b[0;34m.\u001b[0m\u001b[0m_parent_ident\u001b[0m\u001b[0;34m,\u001b[0m\u001b[0;34m\u001b[0m\u001b[0;34m\u001b[0m\u001b[0m\n\u001b[1;32m    862\u001b[0m             \u001b[0mself\u001b[0m\u001b[0;34m.\u001b[0m\u001b[0m_parent_header\u001b[0m\u001b[0;34m,\u001b[0m\u001b[0;34m\u001b[0m\u001b[0;34m\u001b[0m\u001b[0m\n",
      "\u001b[0;32m~/.local/lib/python3.8/site-packages/ipykernel/kernelbase.py\u001b[0m in \u001b[0;36m_input_request\u001b[0;34m(self, prompt, ident, parent, password)\u001b[0m\n\u001b[1;32m    902\u001b[0m             \u001b[0;32mexcept\u001b[0m \u001b[0mKeyboardInterrupt\u001b[0m\u001b[0;34m:\u001b[0m\u001b[0;34m\u001b[0m\u001b[0;34m\u001b[0m\u001b[0m\n\u001b[1;32m    903\u001b[0m                 \u001b[0;31m# re-raise KeyboardInterrupt, to truncate traceback\u001b[0m\u001b[0;34m\u001b[0m\u001b[0;34m\u001b[0m\u001b[0;34m\u001b[0m\u001b[0m\n\u001b[0;32m--> 904\u001b[0;31m                 \u001b[0;32mraise\u001b[0m \u001b[0mKeyboardInterrupt\u001b[0m\u001b[0;34m(\u001b[0m\u001b[0;34m\"Interrupted by user\"\u001b[0m\u001b[0;34m)\u001b[0m \u001b[0;32mfrom\u001b[0m \u001b[0;32mNone\u001b[0m\u001b[0;34m\u001b[0m\u001b[0;34m\u001b[0m\u001b[0m\n\u001b[0m\u001b[1;32m    905\u001b[0m             \u001b[0;32mexcept\u001b[0m \u001b[0mException\u001b[0m \u001b[0;32mas\u001b[0m \u001b[0me\u001b[0m\u001b[0;34m:\u001b[0m\u001b[0;34m\u001b[0m\u001b[0;34m\u001b[0m\u001b[0m\n\u001b[1;32m    906\u001b[0m                 \u001b[0mself\u001b[0m\u001b[0;34m.\u001b[0m\u001b[0mlog\u001b[0m\u001b[0;34m.\u001b[0m\u001b[0mwarning\u001b[0m\u001b[0;34m(\u001b[0m\u001b[0;34m\"Invalid Message:\"\u001b[0m\u001b[0;34m,\u001b[0m \u001b[0mexc_info\u001b[0m\u001b[0;34m=\u001b[0m\u001b[0;32mTrue\u001b[0m\u001b[0;34m)\u001b[0m\u001b[0;34m\u001b[0m\u001b[0;34m\u001b[0m\u001b[0m\n",
      "\u001b[0;31mKeyboardInterrupt\u001b[0m: Interrupted by user"
     ]
    }
   ],
   "source": [
    "# If you want to save!\n",
    "\n",
    "import os\n",
    "import pickle\n",
    "import pandas as pd\n",
    "\n",
    "master_list = [cv_train_acc] + [cv_acc] + [hmm_list] + [train_list] +[test_list]\n",
    "\n",
    "name = input(\"What do you want to save the files as?\")\n",
    "\n",
    "# Saves last iteration as backup in case input name is strange\n",
    "with open(\"backup\", \"wb\") as fp: # Pickling\n",
    "    pickle.dump(master_list, fp)\n",
    "\n",
    "with open(name, \"wb\") as fp: # Pickling\n",
    "    pickle.dump(master_list, fp)\n"
   ]
  }
 ],
 "metadata": {
  "kernelspec": {
   "display_name": "Python 3",
   "language": "python",
   "name": "python3"
  },
  "language_info": {
   "codemirror_mode": {
    "name": "ipython",
    "version": 3
   },
   "file_extension": ".py",
   "mimetype": "text/x-python",
   "name": "python",
   "nbconvert_exporter": "python",
   "pygments_lexer": "ipython3",
   "version": "3.8.5"
  }
 },
 "nbformat": 4,
 "nbformat_minor": 4
}
