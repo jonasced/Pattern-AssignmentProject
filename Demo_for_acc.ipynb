{
 "cells": [
  {
   "cell_type": "markdown",
   "metadata": {},
   "source": [
    "# Demo for data_prep, hmm_training, classifier, and hmm_test"
   ]
  },
  {
   "cell_type": "code",
   "execution_count": 1,
   "metadata": {},
   "outputs": [],
   "source": [
    "import numpy as np\n",
    "import pandas as pd\n",
    "import scipy.stats\n",
    "from matplotlib import pyplot as plt\n",
    "\n",
    "from CharacterFeatureExtractor import featureExtractor\n",
    "from dataprep import *\n",
    "from modeltrain import *\n",
    "from classifier import *\n",
    "from hmm_test import *\n",
    "from createDataSet import *\n",
    "from DrawCharacter import DrawCharacter\n",
    "from PattRecClasses import HMM_TA\n",
    "from hmm_gen import hmm_gen\n"
   ]
  },
  {
   "cell_type": "markdown",
   "metadata": {},
   "source": [
    "## Training Model"
   ]
  },
  {
   "cell_type": "code",
   "execution_count": 2,
   "metadata": {},
   "outputs": [
    {
     "name": "stdout",
     "output_type": "stream",
     "text": [
      "\n",
      "Database read is  database\n",
      "Labels used are  ['A', 'C', 'K', 'P', 'X', 'T', '+', 'N', 'V', '4']\n",
      "Total training samples are  15  and testing samples are  5 \n",
      "\n",
      "\n",
      " ------------ CHARACTER  A ------------\n",
      "Number of states:  2\n",
      "Avg probability for entire sequence over test samples is -3.298671264230808  (log),  3.6932207958803365 %\n",
      "Normalized score:  369.32207958803366\n",
      "\n",
      " ------------ CHARACTER  C ------------\n",
      "Number of states:  5\n",
      "Avg probability for entire sequence over test samples is -12.926138195285455  (log),  0.0002433601752572096 %\n",
      "Normalized score:  24.33601752572096\n",
      "\n",
      " ------------ CHARACTER  K ------------\n",
      "Number of states:  5\n",
      "Avg probability for entire sequence over test samples is -16.372174309081682  (log),  7.75630789984598e-06 %\n",
      "Normalized score:  0.775630789984598\n",
      "\n",
      " ------------ CHARACTER  P ------------\n",
      "Number of states:  5\n",
      "Avg probability for entire sequence over test samples is -13.892245889130054  (log),  9.261349402266299e-05 %\n",
      "Normalized score:  9.2613494022663\n",
      "\n",
      " ------------ CHARACTER  X ------------\n",
      "Number of states:  5\n",
      "Avg probability for entire sequence over test samples is -11.208775982648183  (log),  0.001355471659997647 %\n",
      "Normalized score:  135.5471659997647\n",
      "\n",
      " ------------ CHARACTER  T ------------\n",
      "Number of states:  5\n",
      "Avg probability for entire sequence over test samples is -13.853658775153216  (log),  9.625702608594208e-05 %\n",
      "Normalized score:  9.625702608594208\n",
      "\n",
      " ------------ CHARACTER  + ------------\n",
      "Number of states:  5\n",
      "Avg probability for entire sequence over test samples is -12.185319817315312  (log),  0.0005104848327763237 %\n",
      "Normalized score:  51.048483277632364\n",
      "\n",
      " ------------ CHARACTER  N ------------\n",
      "Number of states:  6\n",
      "Avg probability for entire sequence over test samples is -22.788263216350106  (log),  1.2681862290797419e-08 %\n",
      "Normalized score:  0.012681862290797418\n",
      "\n",
      " ------------ CHARACTER  V ------------\n",
      "Number of states:  5\n",
      "Avg probability for entire sequence over test samples is -10.01827267638159  (log),  0.004457788489077829 %\n",
      "Normalized score:  445.77884890778296\n",
      "\n",
      " ------------ CHARACTER  4 ------------\n",
      "Number of states:  5\n",
      "Avg probability for entire sequence over test samples is -12.429617378730805  (log),  0.0003998395594305083 %\n",
      "Normalized score:  39.98395594305083\n",
      "************* CLASSIFICATION RESULTS ************* \n",
      "(35, 2)\n",
      "(16, 2)\n",
      "(35, 2)\n",
      "(28, 2)\n",
      "(37, 2)\n",
      "Classification accuracy of test samples of character A is: 60.0%\n",
      "(15, 2)\n",
      "(29, 2)\n",
      "(16, 2)\n",
      "(25, 2)\n",
      "(37, 2)\n",
      "Classification accuracy of test samples of character C is: 100.0%\n",
      "(28, 2)\n",
      "(21, 2)\n",
      "(31, 2)\n",
      "(37, 2)\n",
      "(17, 2)\n",
      "Classification accuracy of test samples of character K is: 40.0%\n",
      "(22, 2)\n",
      "(19, 2)\n",
      "(21, 2)\n",
      "(26, 2)\n",
      "(16, 2)\n",
      "Classification accuracy of test samples of character P is: 20.0%\n",
      "(19, 2)\n",
      "(31, 2)\n",
      "(24, 2)\n",
      "(32, 2)\n",
      "(30, 2)\n",
      "Classification accuracy of test samples of character X is: 80.0%\n",
      "(29, 2)\n",
      "(13, 2)\n",
      "(12, 2)\n",
      "(15, 2)\n",
      "(22, 2)\n",
      "Classification accuracy of test samples of character T is: 40.0%\n",
      "(20, 2)\n",
      "(24, 2)\n",
      "(25, 2)\n",
      "(18, 2)\n",
      "(13, 2)\n",
      "Classification accuracy of test samples of character + is: 20.0%\n",
      "(27, 2)\n",
      "(32, 2)\n",
      "(20, 2)\n",
      "(38, 2)\n",
      "(20, 2)\n",
      "Classification accuracy of test samples of character N is: 0.0%\n",
      "(11, 2)\n",
      "(25, 2)\n",
      "(12, 2)\n",
      "(13, 2)\n",
      "(31, 2)\n",
      "Classification accuracy of test samples of character V is: 60.0%\n",
      "(19, 2)\n",
      "(21, 2)\n",
      "(25, 2)\n",
      "(24, 2)\n",
      "(20, 2)\n",
      "Classification accuracy of test samples of character 4 is: 60.0%\n"
     ]
    }
   ],
   "source": [
    "### data prep\n",
    "db_name = \"database\"\n",
    "data_features = pd.read_pickle(r'data/' + db_name + '_features.cdb')\n",
    "data_labels = pd.read_pickle(r'data/' + db_name + '_labels.cdb')\n",
    "class_state_nums = np.array([2,5,5,5,5,5,5,6,5,5])\n",
    "\n",
    "train_data, test_data, data_labels = dataprep(db_name, nr_test=5)\n",
    "hm_learn, train_acc = modeltrain(train_data, data_labels, 12, class_state_nums, longest_sample = True, useprint=False)\n",
    "accuracies, result_labels_list = hmm_test(hm_learn,test_data, data_labels)\n",
    "\n",
    "    "
   ]
  },
  {
   "cell_type": "code",
   "execution_count": 10,
   "metadata": {},
   "outputs": [
    {
     "name": "stdout",
     "output_type": "stream",
     "text": [
      "---------------- RESULTS: ---------------- \n",
      "\n",
      " Character:  A\n",
      "Test accuracy:  0.6 and resulting labels:  ['A', 'P', 'P', 'A', 'A']\n",
      "Training accuracy: (log) -3.298671264230808\n",
      "\n",
      " Character:  C\n",
      "Test accuracy:  1.0 and resulting labels:  ['C', 'C', 'C', 'C', 'C']\n",
      "Training accuracy: (log) -12.926138195285455\n",
      "\n",
      " Character:  K\n",
      "Test accuracy:  0.4 and resulting labels:  ['K', 'K', 'A', 'A', 'A']\n",
      "Training accuracy: (log) -16.372174309081682\n",
      "\n",
      " Character:  P\n",
      "Test accuracy:  0.2 and resulting labels:  ['A', 'A', 'A', 'A', 'P']\n",
      "Training accuracy: (log) -13.892245889130054\n",
      "\n",
      " Character:  X\n",
      "Test accuracy:  0.8 and resulting labels:  ['X', '4', 'X', 'X', 'X']\n",
      "Training accuracy: (log) -11.208775982648183\n",
      "\n",
      " Character:  T\n",
      "Test accuracy:  0.4 and resulting labels:  ['4', 'T', 'A', 'P', 'T']\n",
      "Training accuracy: (log) -13.853658775153216\n",
      "\n",
      " Character:  +\n",
      "Test accuracy:  0.2 and resulting labels:  ['A', 'A', '+', 'A', 'A']\n",
      "Training accuracy: (log) -12.185319817315312\n",
      "\n",
      " Character:  N\n",
      "Test accuracy:  0.0 and resulting labels:  ['4', '4', '4', '4', '4']\n",
      "Training accuracy: (log) -22.788263216350106\n",
      "\n",
      " Character:  V\n",
      "Test accuracy:  0.6 and resulting labels:  ['V', '4', 'V', '4', 'V']\n",
      "Training accuracy: (log) -10.01827267638159\n",
      "\n",
      " Character:  4\n",
      "Test accuracy:  0.6 and resulting labels:  ['A', '4', 'A', '4', '4']\n",
      "Training accuracy: (log) -12.429617378730805\n"
     ]
    }
   ],
   "source": [
    "print(\"---------------- RESULTS: ---------------- \")\n",
    "for k in range(len(data_labels)):\n",
    "    print(\"\\n Character: \", data_labels[k])\n",
    "    print(\"Test accuracy: \",accuracies[k], \"and resulting labels: \",result_labels_list[k])\n",
    "    print(\"Training accuracy: (log)\", train_acc[k])"
   ]
  },
  {
   "cell_type": "code",
   "execution_count": 11,
   "metadata": {},
   "outputs": [
    {
     "name": "stdout",
     "output_type": "stream",
     "text": [
      "What do you want to save the files as?hmm_demo\n"
     ]
    }
   ],
   "source": [
    "# If you want to save!\n",
    "\n",
    "import os\n",
    "import pickle\n",
    "import pandas as pd\n",
    "\n",
    "name = input(\"What do you want to save the files as?\")\n",
    "    \n",
    "with open(name, \"wb\") as fp: # Pickling\n",
    "    pickle.dump(hm_learn, fp)"
   ]
  },
  {
   "cell_type": "code",
   "execution_count": 4,
   "metadata": {},
   "outputs": [],
   "source": [
    "# ### data prep\n",
    "# db_name = \"database_inc_sampchar\"\n",
    "# data_features = pd.read_pickle(r'data/' + db_name + '_features.cdb')\n",
    "# data_labels = pd.read_pickle(r'data/' + db_name + '_labels.cdb')\n",
    "\n",
    "# num_state_list = np.array([2, 3, 4, 5, 6, 7])\n",
    "# train_acc_list = []\n",
    "# big_result_labels_list = []\n",
    "# test_acc_list = []\n",
    "# for i in num_state_list:\n",
    "#     print(\"++++++++++++++++++++++TRAINING OF HMM MODELS WITH \" + str(i) + \" STATES++++++++++++++++++++++\")\n",
    "#     train_data, test_data, data_labels = dataprep(db_name, nr_test=5)\n",
    "#     hm_learn, train_acc = modeltrain(train_data, data_labels, 20, i, longest_sample= True, useprint=False)\n",
    "#     accuracies, result_labels_list = hmm_test(hm_learn,test_data, data_labels)\n",
    "#     train_acc_list.append(train_acc)\n",
    "#     test_acc_list.append(accuracies)\n",
    "#     big_result_labels_list.append(result_labels_list)\n",
    "    \n",
    "\n",
    "\n",
    "# #print(result_labels_list)"
   ]
  },
  {
   "cell_type": "code",
   "execution_count": 5,
   "metadata": {},
   "outputs": [
    {
     "name": "stdout",
     "output_type": "stream",
     "text": [
      "['A', 'C', 'K', 'P', 'X', 'T', '+', 'N', 'V', '4']\n",
      "10\n",
      "[-3.298671264230808, -12.926138195285455, -16.372174309081682, -13.892245889130054, -11.208775982648183, -13.853658775153216, -12.185319817315312, -22.788263216350106, -10.01827267638159, -12.429617378730805]\n"
     ]
    }
   ],
   "source": [
    "db_name = \"database_inc_sampchar\"\n",
    "data_features = pd.read_pickle(r'data/' + db_name + '_features.cdb')\n",
    "data_labels = pd.read_pickle(r'data/' + db_name + '_labels.cdb')\n",
    "print(data_labels)\n",
    "print(len(data_features))\n",
    "print(train_acc)\n"
   ]
  }
 ],
 "metadata": {
  "kernelspec": {
   "display_name": "Python 3",
   "language": "python",
   "name": "python3"
  },
  "language_info": {
   "codemirror_mode": {
    "name": "ipython",
    "version": 3
   },
   "file_extension": ".py",
   "mimetype": "text/x-python",
   "name": "python",
   "nbconvert_exporter": "python",
   "pygments_lexer": "ipython3",
   "version": "3.8.5"
  }
 },
 "nbformat": 4,
 "nbformat_minor": 5
}
