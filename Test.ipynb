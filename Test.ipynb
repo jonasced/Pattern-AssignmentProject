{
 "cells": [
  {
   "cell_type": "code",
   "execution_count": 1,
   "metadata": {},
   "outputs": [],
   "source": [
    "import os\n",
    "import pickle\n",
    "import pandas as pd\n",
    "import numpy as np\n",
    "\n",
    "from dataprep import dataprep\n",
    "from modeltrain import modeltrain\n",
    "from hmm_test import hmm_test"
   ]
  },
  {
   "cell_type": "code",
   "execution_count": 2,
   "metadata": {},
   "outputs": [],
   "source": [
    "# Load in master_list data from saved run and choose HMM models correspondingly\n",
    "\n",
    "# master_list = [cv_train_acc] + [cv_acc] + [hmm_list] + [train_list] + [test_list]\n",
    "\n",
    "master_list50 = pd.read_pickle(r'master_list50')\n",
    "\n",
    "# Choose metric to extract the best HMM model based on\n",
    "cv_train_acc = master_list50[0]\n",
    "metric = cv_train_acc\n",
    "\n",
    "best = np.zeros([2,10]) - 50  # make sure that it finds the extreme values\n",
    "itr = len(metric)\n",
    "for i in range(itr):\n",
    "    for k in range(10):\n",
    "        if metric[i][k] > best[0,k]:\n",
    "            best[0,k] = metric[i][k]  # best value\n",
    "            best[1,k] = i  # index of currently best model\n",
    "\n",
    "# Choose the hmm models corresponding to the metric\n",
    "hmm_list = master_list50[2]\n",
    "hmm_best = []\n",
    "\n",
    "for k in range(10):\n",
    "    hmm_best += [hmm_list[int(best[1,2])][k]]\n",
    "    \n",
    "    \n",
    "# In this case we are using training accuracy, so save out the chosen parameters s.t. they can be plotted with the results\n",
    "\n",
    "train_acc = best[0,:]"
   ]
  },
  {
   "cell_type": "code",
   "execution_count": 3,
   "metadata": {},
   "outputs": [
    {
     "name": "stdout",
     "output_type": "stream",
     "text": [
      "\n",
      "Database read is  database_inc_sampchar\n",
      "Labels used are  ['A', 'C', 'K', 'P', 'X', 'T', '+', 'N', 'V', '4']\n",
      "Total training samples are  5  and testing samples are  15 \n",
      "\n",
      "************* CLASSIFICATION RESULTS ************* \n",
      "Classification accuracy of test samples of character A is: 0.0%\n",
      "Classification accuracy of test samples of character C is: 0.0%\n",
      "Classification accuracy of test samples of character K is: 46.666666666666664%\n",
      "Classification accuracy of test samples of character P is: 40.0%\n",
      "Classification accuracy of test samples of character X is: 0.0%\n",
      "Classification accuracy of test samples of character T is: 0.0%\n",
      "Classification accuracy of test samples of character + is: 100.0%\n",
      "Classification accuracy of test samples of character N is: 0.0%\n",
      "Classification accuracy of test samples of character V is: 93.33333333333333%\n",
      "Classification accuracy of test samples of character 4 is: 0.0%\n"
     ]
    }
   ],
   "source": [
    "# Load training and testing data:\n",
    "useprint = True\n",
    "train_data, test_data, labels = dataprep(\"database_inc_sampchar\", useprint=useprint, shuffle=True, max_labels=0, max_samples=0, nr_test=15)\n",
    "\n",
    "# Evaluate trained model:\n",
    "acc, res_labl_list = hmm_test(hmm_best, test_data, labels)"
   ]
  },
  {
   "cell_type": "code",
   "execution_count": 4,
   "metadata": {},
   "outputs": [
    {
     "name": "stdout",
     "output_type": "stream",
     "text": [
      "---------------- RESULTS: ---------------- \n",
      "\n",
      " Character:  A\n",
      "Test accuracy:  0.0 and resulting labels:  ['K', 'K', 'K', 'K', 'K', 'K', 'K', 'K', 'K', 'K', 'K', 'K', 'K', 'K', '4']\n",
      "Training accuracy: (log) -4.055479833494288\n",
      "\n",
      " Character:  C\n",
      "Test accuracy:  0.0 and resulting labels:  ['K', 'K', 'K', 'K', 'K', 'K', 'K', 'K', 'K', 'K', 'K', 'K', 'K', 'K', 'K']\n",
      "Training accuracy: (log) -6.164615790207235\n",
      "\n",
      " Character:  K\n",
      "Test accuracy:  0.4666666666666667 and resulting labels:  ['4', 'P', 'K', 'K', 'P', '4', 'K', 'K', 'K', 'K', 'V', 'P', 'K', '4', 'P']\n",
      "Training accuracy: (log) -5.47893663677152\n",
      "\n",
      " Character:  P\n",
      "Test accuracy:  0.4 and resulting labels:  ['P', 'P', 'K', 'K', 'P', 'K', 'K', 'P', 'P', 'P', 'K', 'K', 'K', 'K', 'K']\n",
      "Training accuracy: (log) -5.119288898959973\n",
      "\n",
      " Character:  X\n",
      "Test accuracy:  0.0 and resulting labels:  ['V', 'V', 'V', '+', 'V', 'V', 'V', 'V', 'V', 'K', 'V', 'V', 'V', 'V', 'V']\n",
      "Training accuracy: (log) -3.344577440675203\n",
      "\n",
      " Character:  T\n",
      "Test accuracy:  0.0 and resulting labels:  ['+', '+', '+', '+', '+', '+', '+', '+', '+', '+', '+', '+', '+', '+', '+']\n",
      "Training accuracy: (log) -2.950994684082396\n",
      "\n",
      " Character:  +\n",
      "Test accuracy:  1.0 and resulting labels:  ['+', '+', '+', '+', '+', '+', '+', '+', '+', '+', '+', '+', '+', '+', '+']\n",
      "Training accuracy: (log) -3.2647799445979975\n",
      "\n",
      " Character:  N\n",
      "Test accuracy:  0.0 and resulting labels:  ['K', 'K', 'K', 'K', 'K', 'K', 'K', 'K', 'K', 'K', 'K', 'K', 'K', 'K', 'K']\n",
      "Training accuracy: (log) -6.9804935453941725\n",
      "\n",
      " Character:  V\n",
      "Test accuracy:  0.9333333333333333 and resulting labels:  ['V', 'V', 'V', 'V', 'V', 'V', 'V', 'V', 'V', 'V', 'V', '+', 'V', 'V', 'V']\n",
      "Training accuracy: (log) -3.107517862228655\n",
      "\n",
      " Character:  4\n",
      "Test accuracy:  0.0 and resulting labels:  ['K', 'K', 'K', 'K', 'K', 'K', 'K', 'P', 'P', 'K', 'K', 'K', 'P', 'K', 'K']\n",
      "Training accuracy: (log) -3.7366807760263487\n"
     ]
    }
   ],
   "source": [
    "print(\"---------------- RESULTS: ---------------- \")\n",
    "for k in range(len(labels)):\n",
    "    print(\"\\n Character: \", labels[k])\n",
    "    print(\"Test accuracy: \",acc[k], \"and resulting labels: \",res_labl_list[k])\n",
    "    print(\"Training accuracy: (log)\", train_acc[k])"
   ]
  }
 ],
 "metadata": {
  "kernelspec": {
   "display_name": "Python 3",
   "language": "python",
   "name": "python3"
  },
  "language_info": {
   "codemirror_mode": {
    "name": "ipython",
    "version": 3
   },
   "file_extension": ".py",
   "mimetype": "text/x-python",
   "name": "python",
   "nbconvert_exporter": "python",
   "pygments_lexer": "ipython3",
   "version": "3.8.5"
  }
 },
 "nbformat": 4,
 "nbformat_minor": 4
}
