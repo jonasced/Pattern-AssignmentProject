{
 "cells": [
  {
   "cell_type": "code",
   "execution_count": 1,
   "metadata": {},
   "outputs": [],
   "source": [
    "from dataprep import dataprep\n",
    "from modeltrain import modeltrain\n",
    "from hmm_test import hmm_test\n",
    "\n",
    "import numpy as np"
   ]
  },
  {
   "cell_type": "markdown",
   "metadata": {},
   "source": [
    "# Cross validation implementation"
   ]
  },
  {
   "cell_type": "code",
   "execution_count": null,
   "metadata": {},
   "outputs": [
    {
     "name": "stdout",
     "output_type": "stream",
     "text": [
      "\n",
      "Database read is  database_inc_sampchar\n",
      "Labels used are  ['A', 'C', 'K', 'P', 'X', 'T', '+', 'N', 'V', '4']\n",
      "Total training samples are  15  and testing samples are  5 \n",
      "\n",
      "\n",
      " ------------ CHARACTER  A ------------\n",
      "Estimated q:\n",
      "[1. 0.]\n",
      "\n",
      "Estimated A:\n",
      "[[9.56647399e-001 4.33526012e-002]\n",
      " [1.36939112e-110 1.00000000e+000]]\n",
      "\n",
      "Estimated means:\n",
      "[[ 10.07453272   0.2695875 ]\n",
      " [ 38.23301466 -10.26848084]]\n",
      "\n",
      "Estimated covariances:\n",
      "[[[2.57933411e+00 1.76222658e+01]\n",
      "  [1.76222658e+01 4.34708546e+03]]\n",
      "\n",
      " [[2.11495653e+01 1.61311711e+01]\n",
      "  [1.61311711e+01 2.60117094e+02]]]\n",
      "Avg probability over test samples is 0.016303229541661156\n",
      "\n",
      " ------------ CHARACTER  C ------------\n",
      "Estimated q:\n",
      "[6.73100558e-29 1.18422681e-01 8.81577319e-01]\n",
      "\n",
      "Estimated A:\n",
      "[[0.81966627 0.02845416 0.15187957]\n",
      " [0.00893078 0.25234095 0.73872826]\n",
      " [0.08327346 0.05041174 0.8663148 ]]\n",
      "\n",
      "Estimated means:\n",
      "[[  9.65842173  68.58303718]\n",
      " [  8.56948873  -5.78082227]\n",
      " [  9.80211941 -12.80421197]]\n",
      "\n",
      "Estimated covariances:\n",
      "[[[1.13288049e+00 1.03990195e+01]\n",
      "  [1.03990195e+01 3.59850328e+02]]\n",
      "\n",
      " [[1.23461595e-03 6.31231106e-01]\n",
      "  [6.31231106e-01 1.89957651e+03]]\n",
      "\n",
      " [[1.43865579e+00 1.78489055e+00]\n",
      "  [1.78489055e+00 9.44051226e+02]]]\n",
      "Avg probability over test samples is 1.617849974984924e-05\n",
      "\n",
      " ------------ CHARACTER  K ------------\n"
     ]
    }
   ],
   "source": [
    "itr = 5  # number of cross-validation iterations\n",
    "\n",
    "# Cross validation implementation\n",
    "cv_train_acc = []\n",
    "cv_acc = []\n",
    "hmm_list = []\n",
    "train_list = []\n",
    "test_list = []\n",
    "\n",
    "for i in range(itr):\n",
    "    \n",
    "    train_data, test_data, labels = dataprep(\"database_inc_sampchar\", shuffle=True, max_labels=0, max_samples=0, nr_test=5)\n",
    "\n",
    "    hmm_learn, train_acc = modeltrain(train_data, labels, 20)\n",
    "\n",
    "    acc, res_labl_list = hmm_test(hmm_learn, test_data, labels )\n",
    "    \n",
    "    cv_train_acc += [train_acc]\n",
    "    cv_acc += [acc]\n",
    "    hmm_list += [hmm_learn]\n",
    "    train_list += [train_data]\n",
    "    test_list += [test_data]\n",
    "\n",
    "mean_acc = np.mean(np.array(cv_acc))\n",
    "print(mean_acc)"
   ]
  },
  {
   "cell_type": "code",
   "execution_count": null,
   "metadata": {},
   "outputs": [],
   "source": [
    "print(cv_acc)\n",
    "print(cv_train_acc)"
   ]
  },
  {
   "cell_type": "code",
   "execution_count": null,
   "metadata": {},
   "outputs": [],
   "source": [
    "\n",
    "\n",
    "print(\"---------------- RESULTS: ---------------- \")\n",
    "for k in range(len(labels)):\n",
    "    print(\"\\n Character: \", labels[k])\n",
    "    print(\"Test accuracy: \",acc[k], \"and resulting labels: \",res_labl_list[k])\n",
    "    print(\"Training accuracy: (log)\", train_acc[k])\n",
    "    "
   ]
  }
 ],
 "metadata": {
  "kernelspec": {
   "display_name": "Python 3",
   "language": "python",
   "name": "python3"
  },
  "language_info": {
   "codemirror_mode": {
    "name": "ipython",
    "version": 3
   },
   "file_extension": ".py",
   "mimetype": "text/x-python",
   "name": "python",
   "nbconvert_exporter": "python",
   "pygments_lexer": "ipython3",
   "version": "3.8.5"
  }
 },
 "nbformat": 4,
 "nbformat_minor": 4
}
