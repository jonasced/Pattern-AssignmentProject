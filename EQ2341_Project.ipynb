{
 "cells": [
  {
   "cell_type": "markdown",
   "metadata": {},
   "source": [
    "# Project test"
   ]
  },
  {
   "cell_type": "markdown",
   "metadata": {},
   "source": [
    "In this assignment, we are going to improve our codes in PattRecClasses and implement forward algorithm inside MarkovChain code as well as functions such as logprob and prob in Guassian in order to generate proper input values for forward algorithm."
   ]
  },
  {
   "cell_type": "code",
   "execution_count": 1,
   "metadata": {},
   "outputs": [],
   "source": [
    "from PattRecClasses import DiscreteD, GaussD, HMM, MarkovChain, Px_calc, gauss_logprob\n",
    "from matplotlib import pyplot as plt\n",
    "# For the code to work you might have to pip install scipy\n",
    "\n",
    "from CharacterFeatureExtractor import featureExtractor\n",
    "from DrawCharacter import DrawCharacter\n",
    "\n",
    "import numpy as np"
   ]
  },
  {
   "cell_type": "markdown",
   "metadata": {},
   "source": [
    "# Code skeleton"
   ]
  },
  {
   "cell_type": "code",
   "execution_count": null,
   "metadata": {},
   "outputs": [],
   "source": []
  },
  {
   "cell_type": "markdown",
   "metadata": {},
   "source": [
    "# Draw character test"
   ]
  },
  {
   "cell_type": "code",
   "execution_count": 2,
   "metadata": {},
   "outputs": [
    {
     "ename": "IndexError",
     "evalue": "index 0 is out of bounds for axis 1 with size 0",
     "output_type": "error",
     "traceback": [
      "\u001b[0;31m---------------------------------------------------------------------------\u001b[0m",
      "\u001b[0;31mIndexError\u001b[0m                                Traceback (most recent call last)",
      "\u001b[0;32m<ipython-input-2-6480b42ee6bf>\u001b[0m in \u001b[0;36m<module>\u001b[0;34m\u001b[0m\n\u001b[1;32m      5\u001b[0m \u001b[0;34m\u001b[0m\u001b[0m\n\u001b[1;32m      6\u001b[0m \u001b[0mthr\u001b[0m \u001b[0;34m=\u001b[0m \u001b[0;36m8\u001b[0m\u001b[0;34m\u001b[0m\u001b[0;34m\u001b[0m\u001b[0m\n\u001b[0;32m----> 7\u001b[0;31m \u001b[0mfeature_symbol1\u001b[0m\u001b[0;34m,\u001b[0m \u001b[0msampled_symbol1\u001b[0m \u001b[0;34m=\u001b[0m \u001b[0mfeatureExtractor\u001b[0m\u001b[0;34m(\u001b[0m\u001b[0mpts\u001b[0m\u001b[0;34m,\u001b[0m\u001b[0mthr\u001b[0m\u001b[0;34m,\u001b[0m\u001b[0;32mFalse\u001b[0m\u001b[0;34m)\u001b[0m\u001b[0;34m\u001b[0m\u001b[0;34m\u001b[0m\u001b[0m\n\u001b[0m\u001b[1;32m      8\u001b[0m \u001b[0;34m\u001b[0m\u001b[0m\n\u001b[1;32m      9\u001b[0m \u001b[0;34m\u001b[0m\u001b[0m\n",
      "\u001b[0;32m~/Local/Pattern-Recognition-Project/CharacterFeatureExtractor.py\u001b[0m in \u001b[0;36mfeatureExtractor\u001b[0;34m(symbol, thr, input_is_dc)\u001b[0m\n\u001b[1;32m    125\u001b[0m     \u001b[0;32melse\u001b[0m\u001b[0;34m:\u001b[0m\u001b[0;34m\u001b[0m\u001b[0;34m\u001b[0m\u001b[0m\n\u001b[1;32m    126\u001b[0m         \u001b[0mxyb_cleaned\u001b[0m \u001b[0;34m=\u001b[0m \u001b[0mremoveZero\u001b[0m\u001b[0;34m(\u001b[0m\u001b[0msymbol\u001b[0m\u001b[0;34m)\u001b[0m\u001b[0;34m\u001b[0m\u001b[0;34m\u001b[0m\u001b[0m\n\u001b[0;32m--> 127\u001b[0;31m         \u001b[0msampled_symbol\u001b[0m \u001b[0;34m=\u001b[0m \u001b[0msampler\u001b[0m\u001b[0;34m(\u001b[0m\u001b[0mxyb_cleaned\u001b[0m\u001b[0;34m,\u001b[0m \u001b[0mthr\u001b[0m\u001b[0;34m)\u001b[0m\u001b[0;34m\u001b[0m\u001b[0;34m\u001b[0m\u001b[0m\n\u001b[0m\u001b[1;32m    128\u001b[0m         \u001b[0mfeature_symbol\u001b[0m \u001b[0;34m=\u001b[0m \u001b[0mnorm_dist_slope\u001b[0m\u001b[0;34m(\u001b[0m\u001b[0msampled_symbol\u001b[0m\u001b[0;34m,\u001b[0m\u001b[0mthr\u001b[0m\u001b[0;34m)\u001b[0m\u001b[0;34m\u001b[0m\u001b[0;34m\u001b[0m\u001b[0m\n\u001b[1;32m    129\u001b[0m \u001b[0;34m\u001b[0m\u001b[0m\n",
      "\u001b[0;32m~/Local/Pattern-Recognition-Project/CharacterFeatureExtractor.py\u001b[0m in \u001b[0;36msampler\u001b[0;34m(coordinates, thr)\u001b[0m\n\u001b[1;32m     39\u001b[0m             \u001b[0mremain_sample_indices\u001b[0m\u001b[0;34m.\u001b[0m\u001b[0mappend\u001b[0m\u001b[0;34m(\u001b[0m\u001b[0mi\u001b[0m \u001b[0;34m+\u001b[0m \u001b[0;36m1\u001b[0m\u001b[0;34m)\u001b[0m\u001b[0;34m\u001b[0m\u001b[0;34m\u001b[0m\u001b[0m\n\u001b[1;32m     40\u001b[0m     \u001b[0;31m#getting x,y values of the samples for corresponding indices\u001b[0m\u001b[0;34m\u001b[0m\u001b[0;34m\u001b[0m\u001b[0;34m\u001b[0m\u001b[0m\n\u001b[0;32m---> 41\u001b[0;31m     \u001b[0msampled_coordinates\u001b[0m \u001b[0;34m=\u001b[0m \u001b[0mcoordinates\u001b[0m\u001b[0;34m[\u001b[0m\u001b[0;34m:\u001b[0m\u001b[0;34m,\u001b[0m\u001b[0mremain_sample_indices\u001b[0m\u001b[0;34m]\u001b[0m\u001b[0;34m\u001b[0m\u001b[0;34m\u001b[0m\u001b[0m\n\u001b[0m\u001b[1;32m     42\u001b[0m     \u001b[0;32mreturn\u001b[0m \u001b[0msampled_coordinates\u001b[0m\u001b[0;34m\u001b[0m\u001b[0;34m\u001b[0m\u001b[0m\n\u001b[1;32m     43\u001b[0m \u001b[0;34m\u001b[0m\u001b[0m\n",
      "\u001b[0;31mIndexError\u001b[0m: index 0 is out of bounds for axis 1 with size 0"
     ]
    }
   ],
   "source": [
    "ch = DrawCharacter()\n",
    "ch.run()\n",
    "\n",
    "pts = ch.get_xybpoints()\n",
    "\n",
    "thr = 8\n",
    "feature_symbol1, sampled_symbol1 = featureExtractor(pts,thr,False)\n",
    "\n",
    "\n",
    "name = input(\"What do you want to save the file as?\")\n",
    "np.save(\"data/\"+str(name)+\".npy\",pts)\n",
    "\n",
    "# WORKS!"
   ]
  },
  {
   "cell_type": "markdown",
   "metadata": {},
   "source": [
    "# P test"
   ]
  },
  {
   "cell_type": "code",
   "execution_count": null,
   "metadata": {},
   "outputs": [],
   "source": [
    "#Get symbol-1 (small p on top left quadrant)\n",
    "dc1 = np.load(\"data/P_top_left.npy\")\n",
    "\n",
    "#Get symbol-2 (small p on bottom right quadrant)\n",
    "dc2 = np.load(\"data/P_bottom_right.npy\")\n",
    "\n",
    "#Get symbol-3(twice as big p filling entire window)\n",
    "dc3 = np.load(\"data/P_big.npy\")\n",
    "\n",
    "thr = 8 # threshold for sampling and distance normalization\n",
    "\n",
    "# #Feature vectors are returned\n",
    "feature_symbol1, sampled_symbol1 = featureExtractor(dc1,thr,False)\n",
    "feature_symbol2, sampled_symbol2 = featureExtractor(dc2,thr,False)\n",
    "feature_symbol3, sampled_symbol3 = featureExtractor(dc3,thr,False)\n",
    "\n",
    "\n",
    "# normalized distance ,slope, and t for symbol-1\n",
    "f1_symbol1 = feature_symbol1[0]\n",
    "f2_symbol1 = feature_symbol1[1]\n",
    "t1 = np.array(range(0,feature_symbol1.shape[1]))\n",
    "\n",
    "\n",
    "# normalized distance ,slope, and t for symbol-2\n",
    "f1_symbol2 = feature_symbol2[0]\n",
    "f2_symbol2 = feature_symbol2[1]\n",
    "t2 = np.array(range(0,feature_symbol2.shape[1]))\n",
    "\n",
    "# normalized distance ,slope, and t for symbol-2\n",
    "f1_symbol3 = feature_symbol3[0]\n",
    "f2_symbol3 = feature_symbol3[1]\n",
    "t3 = np.array(range(0,feature_symbol3.shape[1]))\n",
    "\n",
    "f, axarr = plt.subplots(3, 3)\n",
    "f.suptitle('Scale & Position Effect', fontsize=20)\n",
    "\n",
    "\n",
    "#------------- SYMBOL DRAWINGS\n",
    "#Drawing of sampled symbol-1\n",
    "axarr[0, 0].scatter(sampled_symbol1[0], sampled_symbol1[1])\n",
    "axarr[0, 0].set(xlabel = \"X-Coordinate\", ylabel = \"Y-Coordinate\")\n",
    "axarr[0, 0].set_title('Symbol-1')\n",
    "axarr[0, 0].set_xlim([0,210])\n",
    "axarr[0, 0].set_ylim([0,210])\n",
    "\n",
    "#Drawing of sampled symbol-2\n",
    "axarr[0, 1].scatter(sampled_symbol2[0], sampled_symbol2[1])\n",
    "axarr[0, 1].set(xlabel = \"X-Coordinate\", ylabel = \"Y-Coordinate\")\n",
    "axarr[0, 1].set_title('Symbol-2')\n",
    "axarr[0, 1].set_xlim([0,210])\n",
    "axarr[0, 1].set_ylim([0,210])\n",
    "\n",
    "#Drawing of sampled symbol-3\n",
    "axarr[0, 2].scatter(sampled_symbol3[0], sampled_symbol3[1])\n",
    "axarr[0, 2].set(xlabel = \"X-Coordinate\", ylabel = \"Y-Coordinate\")\n",
    "axarr[0, 2].set_title('Symbol-3')\n",
    "axarr[0, 2].set_xlim([0,210])\n",
    "axarr[0, 2].set_ylim([0,210])\n",
    "\n",
    "#------------- ABSOLUTE DISTANCE FEATURE\n",
    "\n",
    "#Absolute distance plot of symbol-1\n",
    "axarr[1, 0].plot(t1, f1_symbol1)\n",
    "axarr[1, 0].set(xlabel = \"Time\", ylabel = \"Normalized Distance\")\n",
    "axarr[1, 0].set_ylim([0,np.max(f1_symbol1)])\n",
    "\n",
    "#Absolute distance plot of symbol-2\n",
    "axarr[1, 1].plot(t2, f1_symbol2)\n",
    "axarr[1, 1].set(xlabel = \"Time\", ylabel = \"Normalized Distance\")\n",
    "axarr[1, 1].set_ylim([0,np.max(f1_symbol2)])\n",
    "\n",
    "#Absolute distance plot of symbol-3\n",
    "axarr[1, 2].plot(t3, f1_symbol3)\n",
    "axarr[1, 2].set(xlabel = \"Time\", ylabel = \"Normalized Distance\")\n",
    "axarr[1, 2].set_ylim([0,np.max(f1_symbol3)])\n",
    "\n",
    "#------------- SLOPE FEATURE\n",
    "\n",
    "#Y-wise distance plot of symbol-1\n",
    "axarr[2, 0].plot(t1, f2_symbol1)\n",
    "axarr[2, 0].set(xlabel = \"Time\", ylabel = \"Slope(Degrees)\")\n",
    "axarr[2, 0].set_ylim([-120,120])\n",
    "\n",
    "#Y-wise distance plot of symbol-2\n",
    "axarr[2, 1].plot(t2, f2_symbol2)\n",
    "axarr[2, 1].set(xlabel = \"Time\", ylabel = \"Slope(Degrees)\")\n",
    "axarr[2, 1].set_ylim([-120,120])\n",
    "\n",
    "#Y-wise distance plot of symbol-3\n",
    "axarr[2, 2].plot(t3, f2_symbol3)\n",
    "axarr[2, 2].set(xlabel = \"Time\", ylabel = \"Slope(Degrees)\")\n",
    "axarr[2, 2].set_ylim([-120,120])\n",
    "\n",
    "plt.savefig('fig/P_test.png', bbox_inches='tight', dpi = 300)\n"
   ]
  }
 ],
 "metadata": {
  "kernelspec": {
   "display_name": "Python 3",
   "language": "python",
   "name": "python3"
  },
  "language_info": {
   "codemirror_mode": {
    "name": "ipython",
    "version": 3
   },
   "file_extension": ".py",
   "mimetype": "text/x-python",
   "name": "python",
   "nbconvert_exporter": "python",
   "pygments_lexer": "ipython3",
   "version": "3.8.5"
  }
 },
 "nbformat": 4,
 "nbformat_minor": 5
}
